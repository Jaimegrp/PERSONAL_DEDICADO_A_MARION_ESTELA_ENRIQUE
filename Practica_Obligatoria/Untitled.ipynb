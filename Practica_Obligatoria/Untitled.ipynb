{
 "cells": [
  {
   "cell_type": "markdown",
   "id": "ad60388b-87eb-45b2-8e60-f3dcddbb2496",
   "metadata": {},
   "source": [
    "# TOOLBOX"
   ]
  },
  {
   "cell_type": "markdown",
   "id": "15cd6299-d417-4ddd-9c47-ba5e0659c966",
   "metadata": {},
   "source": [
    "## Teoría"
   ]
  },
  {
   "cell_type": "markdown",
   "id": "05367ac5-5b3b-4259-b7d4-586a5c5dc874",
   "metadata": {},
   "source": [
    "## Funciones o Código útil"
   ]
  },
  {
   "cell_type": "markdown",
   "id": "73f2a4b5-78e4-4e20-920c-f90a05d01f25",
   "metadata": {},
   "source": [
    "## Links\n",
    "https://ashki23.github.io/markdown-latex.html#latex"
   ]
  },
  {
   "cell_type": "markdown",
   "id": "383f347c-d803-4cda-8764-f3a972388f78",
   "metadata": {},
   "source": [
    "## Curiosidades"
   ]
  },
  {
   "cell_type": "markdown",
   "id": "72c3fdbb-1580-4af9-bf78-b591c24a1814",
   "metadata": {},
   "source": [
    "## Preguntas que quiero hacer y nunca haré"
   ]
  },
  {
   "cell_type": "code",
   "execution_count": null,
   "id": "d9fcbb0c-a349-4d37-9c13-3a0e733b48c2",
   "metadata": {},
   "outputs": [],
   "source": []
  }
 ],
 "metadata": {
  "kernelspec": {
   "display_name": "Python 3 (ipykernel)",
   "language": "python",
   "name": "python3"
  },
  "language_info": {
   "codemirror_mode": {
    "name": "ipython",
    "version": 3
   },
   "file_extension": ".py",
   "mimetype": "text/x-python",
   "name": "python",
   "nbconvert_exporter": "python",
   "pygments_lexer": "ipython3",
   "version": "3.11.6"
  }
 },
 "nbformat": 4,
 "nbformat_minor": 5
}
